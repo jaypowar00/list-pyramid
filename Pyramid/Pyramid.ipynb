{
 "cells": [
  {
   "cell_type": "code",
   "execution_count": 1,
   "metadata": {},
   "outputs": [],
   "source": [
    "def pattern(row=None):\n",
    "    '''\n",
    "    # usage: pattern( row:int )\n",
    "\n",
    "    pass integer value (say n) in this funtion to print that n rows of pyramid\n",
    "    '''\n",
    "    if row and type(row)==int:\n",
    "        li = [[' ' if i<(row*2-j)/2 else '*' if i<=(row*2+j)/2 else '\\n' for i in range(1,(int((row*2+j)/2)+2))] for j in range(1,row*2,2)]\n",
    "    else:\n",
    "        li = [[' ' if i<(8-j)/2 else '*' if i<=(8+j)/2 else '\\n' for i in range(1,(int((8+j)/2)+2))] for j in range(1,8,2)]\n",
    "    a = [i for i in li]\n",
    "    for i in a:\n",
    "        for ii in i:\n",
    "            print(ii,end='')"
   ]
  },
  {
   "cell_type": "code",
   "execution_count": 2,
   "metadata": {},
   "outputs": [
    {
     "name": "stdout",
     "output_type": "stream",
     "text": [
      "     *\n",
      "    ***\n",
      "   *****\n",
      "  *******\n",
      " *********\n",
      "***********\n"
     ]
    }
   ],
   "source": [
    "pattern(6)"
   ]
  }
 ],
 "metadata": {
  "kernelspec": {
   "display_name": "Python 3",
   "language": "python",
   "name": "python3"
  },
  "language_info": {
   "codemirror_mode": {
    "name": "ipython",
    "version": 3
   },
   "file_extension": ".py",
   "mimetype": "text/x-python",
   "name": "python",
   "nbconvert_exporter": "python",
   "pygments_lexer": "ipython3",
   "version": "3.7.6"
  }
 },
 "nbformat": 4,
 "nbformat_minor": 4
}
